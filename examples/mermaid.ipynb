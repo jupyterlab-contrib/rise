{
 "cells": [
  {
   "cell_type": "markdown",
   "id": "f4ac2984-399b-482e-9da4-3d87b4e34aed",
   "metadata": {},
   "source": [
    "# Mermaid test\n",
    "\n",
    "```mermaid\n",
    "sequenceDiagram\n",
    "    Alice->>+John: Hello John, how are you?\n",
    "    Alice->>+John: John, can you hear me?\n",
    "    John-->>-Alice: Hi Alice, I can hear you!\n",
    "    John-->>-Alice: I feel great!\n",
    "```"
   ]
  }
 ],
 "metadata": {
  "kernelspec": {
   "display_name": "Python 3 (ipykernel)",
   "language": "python",
   "name": "python3"
  },
  "language_info": {
   "codemirror_mode": {
    "name": "ipython",
    "version": 3
   },
   "file_extension": ".py",
   "mimetype": "text/x-python",
   "name": "python",
   "nbconvert_exporter": "python",
   "pygments_lexer": "ipython3",
   "version": "3.12.8"
  }
 },
 "nbformat": 4,
 "nbformat_minor": 5
}
